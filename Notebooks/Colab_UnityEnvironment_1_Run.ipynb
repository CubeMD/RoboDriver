{
 "cells": [
  {
   "cell_type": "markdown",
   "metadata": {
    "id": "pbVXrmEsLXDt"
   },
   "source": [
    "# ML-Agents Open a UnityEnvironment\n",
    "<img src=\"https://github.com/Unity-Technologies/ml-agents/blob/release_19_docs/docs/images/image-banner.png?raw=true\" align=\"middle\" width=\"435\"/>"
   ]
  },
  {
   "cell_type": "markdown",
   "metadata": {
    "id": "WNKTwHU3d2-l"
   },
   "source": [
    "## Setup"
   ]
  },
  {
   "cell_type": "code",
   "execution_count": 1,
   "metadata": {},
   "outputs": [
    {
     "name": "stdout",
     "output_type": "stream",
     "text": [
      "# conda environments:\n",
      "#\n",
      "base                     C:\\ProgramData\\Anaconda3\n",
      "ML-Agents-Config-Manager     C:\\Users\\marke\\.conda\\envs\\ML-Agents-Config-Manager\n",
      "ml-agents             *  C:\\Users\\marke\\.conda\\envs\\ml-agents\n",
      "\n"
     ]
    }
   ],
   "source": [
    "!conda env list"
   ]
  },
  {
   "cell_type": "code",
   "execution_count": 2,
   "metadata": {},
   "outputs": [
    {
     "name": "stdout",
     "output_type": "stream",
     "text": [
      "# packages in environment at C:\\Users\\marke\\.conda\\envs\\ml-agents:\n",
      "#\n",
      "# Name                    Version                   Build  Channel\n",
      "absl-py                   1.2.0                    pypi_0    pypi\n",
      "anyio                     3.6.1                    pypi_0    pypi\n",
      "argon2-cffi               21.3.0                   pypi_0    pypi\n",
      "argon2-cffi-bindings      21.2.0                   pypi_0    pypi\n",
      "attrs                     22.1.0                   pypi_0    pypi\n",
      "babel                     2.10.3                   pypi_0    pypi\n",
      "backcall                  0.2.0                    pypi_0    pypi\n",
      "beautifulsoup4            4.11.1                   pypi_0    pypi\n",
      "blas                      1.0                         mkl  \n",
      "bleach                    5.0.1                    pypi_0    pypi\n",
      "brotlipy                  0.7.0           py37h2bbff1b_1003  \n",
      "ca-certificates           2022.07.19           haa95532_0  \n",
      "cachetools                5.2.0                    pypi_0    pypi\n",
      "cattrs                    1.0.0                    pypi_0    pypi\n",
      "certifi                   2022.6.15        py37haa95532_0  \n",
      "cffi                      1.15.1           py37h2bbff1b_0  \n",
      "charset-normalizer        2.0.4              pyhd3eb1b0_0  \n",
      "cloudpickle               2.1.0                    pypi_0    pypi\n",
      "colorama                  0.4.5                    pypi_0    pypi\n",
      "cryptography              37.0.1           py37h21b164f_0  \n",
      "cudatoolkit               11.3.1               h59b6b97_2  \n",
      "cycler                    0.11.0                   pypi_0    pypi\n",
      "debugpy                   1.6.3                    pypi_0    pypi\n",
      "decorator                 5.1.1                    pypi_0    pypi\n",
      "defusedxml                0.7.1                    pypi_0    pypi\n",
      "entrypoints               0.4                      pypi_0    pypi\n",
      "fastjsonschema            2.16.1                   pypi_0    pypi\n",
      "fonttools                 4.37.0                   pypi_0    pypi\n",
      "freetype                  2.10.4               hd328e21_0  \n",
      "google-auth               2.11.0                   pypi_0    pypi\n",
      "google-auth-oauthlib      0.4.6                    pypi_0    pypi\n",
      "grpcio                    1.47.0                   pypi_0    pypi\n",
      "gym                       0.21.0                   pypi_0    pypi\n",
      "gym-unity                 0.29.0.dev0               dev_0    <develop>\n",
      "h5py                      3.7.0                    pypi_0    pypi\n",
      "idna                      3.3                pyhd3eb1b0_0  \n",
      "importlib-metadata        4.12.0                   pypi_0    pypi\n",
      "importlib-resources       5.9.0                    pypi_0    pypi\n",
      "intel-openmp              2021.4.0          haa95532_3556  \n",
      "ipykernel                 6.15.1                   pypi_0    pypi\n",
      "ipython                   7.34.0                   pypi_0    pypi\n",
      "ipython-genutils          0.2.0                    pypi_0    pypi\n",
      "jedi                      0.18.1                   pypi_0    pypi\n",
      "jinja2                    3.1.2                    pypi_0    pypi\n",
      "jpeg                      9e                   h2bbff1b_0  \n",
      "json5                     0.9.10                   pypi_0    pypi\n",
      "jsonschema                4.14.0                   pypi_0    pypi\n",
      "jupyter-client            7.3.4                    pypi_0    pypi\n",
      "jupyter-core              4.11.1                   pypi_0    pypi\n",
      "jupyter-server            1.18.1                   pypi_0    pypi\n",
      "jupyterlab                3.4.5                    pypi_0    pypi\n",
      "jupyterlab-pygments       0.2.2                    pypi_0    pypi\n",
      "jupyterlab-server         2.15.1                   pypi_0    pypi\n",
      "kiwisolver                1.4.4                    pypi_0    pypi\n",
      "lerc                      3.0                  hd77b12b_0  \n",
      "libdeflate                1.8                  h2bbff1b_5  \n",
      "libpng                    1.6.37               h2a8f88b_0  \n",
      "libtiff                   4.4.0                h8a3f274_0  \n",
      "libuv                     1.40.0               he774522_0  \n",
      "libwebp                   1.2.2                h2bbff1b_0  \n",
      "lxml                      4.9.1                    pypi_0    pypi\n",
      "lz4-c                     1.9.3                h2bbff1b_1  \n",
      "markdown                  3.4.1                    pypi_0    pypi\n",
      "markupsafe                2.1.1                    pypi_0    pypi\n",
      "matplotlib                3.5.3                    pypi_0    pypi\n",
      "matplotlib-inline         0.1.6                    pypi_0    pypi\n",
      "mistune                   2.0.4                    pypi_0    pypi\n",
      "mkl                       2021.4.0           haa95532_640  \n",
      "mkl-service               2.4.0            py37h2bbff1b_0  \n",
      "mkl_fft                   1.3.1            py37h277e83a_0  \n",
      "mkl_random                1.2.2            py37hf11a4ad_0  \n",
      "mlagents                  0.29.0.dev0               dev_0    <develop>\n",
      "mlagents-envs             0.29.0.dev0               dev_0    <develop>\n",
      "nbclassic                 0.4.3                    pypi_0    pypi\n",
      "nbclient                  0.6.7                    pypi_0    pypi\n",
      "nbconvert                 7.0.0                    pypi_0    pypi\n",
      "nbformat                  5.4.0                    pypi_0    pypi\n",
      "nest-asyncio              1.5.5                    pypi_0    pypi\n",
      "notebook                  6.4.12                   pypi_0    pypi\n",
      "notebook-shim             0.1.0                    pypi_0    pypi\n",
      "numpy                     1.21.5           py37h7a0a035_3  \n",
      "numpy-base                1.21.5           py37hca35cd5_3  \n",
      "oauthlib                  3.2.0                    pypi_0    pypi\n",
      "openssl                   1.1.1q               h2bbff1b_0  \n",
      "packaging                 21.3                     pypi_0    pypi\n",
      "pandocfilters             1.5.0                    pypi_0    pypi\n",
      "parso                     0.8.3                    pypi_0    pypi\n",
      "pickleshare               0.7.5                    pypi_0    pypi\n",
      "pillow                    9.2.0            py37hdc2b20a_1  \n",
      "pip                       22.1.2           py37haa95532_0  \n",
      "pkgutil-resolve-name      1.3.10                   pypi_0    pypi\n",
      "prometheus-client         0.14.1                   pypi_0    pypi\n",
      "prompt-toolkit            3.0.30                   pypi_0    pypi\n",
      "protobuf                  3.19.4                   pypi_0    pypi\n",
      "psutil                    5.9.1                    pypi_0    pypi\n",
      "pyasn1                    0.4.8                    pypi_0    pypi\n",
      "pyasn1-modules            0.2.8                    pypi_0    pypi\n",
      "pycparser                 2.21               pyhd3eb1b0_0  \n",
      "pygments                  2.13.0                   pypi_0    pypi\n",
      "pyopenssl                 22.0.0             pyhd3eb1b0_0  \n",
      "pyparsing                 3.0.9                    pypi_0    pypi\n",
      "pypiwin32                 223                      pypi_0    pypi\n",
      "pyrsistent                0.18.1                   pypi_0    pypi\n",
      "pysocks                   1.7.1                    py37_1  \n",
      "python                    3.7.13               h6244533_0  \n",
      "python-dateutil           2.8.2                    pypi_0    pypi\n",
      "pytorch                   1.11.0          py3.7_cuda11.3_cudnn8_0    pytorch\n",
      "pytorch-mutex             1.0                        cuda    pytorch\n",
      "pytz                      2022.2.1                 pypi_0    pypi\n",
      "pywin32                   304                      pypi_0    pypi\n",
      "pywinpty                  2.0.7                    pypi_0    pypi\n",
      "pyyaml                    6.0                      pypi_0    pypi\n",
      "pyzmq                     23.2.1                   pypi_0    pypi\n",
      "requests                  2.28.1           py37haa95532_0  \n",
      "requests-oauthlib         1.3.1                    pypi_0    pypi\n",
      "rsa                       4.9                      pypi_0    pypi\n",
      "send2trash                1.8.0                    pypi_0    pypi\n",
      "setuptools                63.4.1           py37haa95532_0  \n",
      "six                       1.16.0             pyhd3eb1b0_1  \n",
      "sniffio                   1.2.0                    pypi_0    pypi\n",
      "soupsieve                 2.3.2.post1              pypi_0    pypi\n",
      "sqlite                    3.39.2               h2bbff1b_0  \n",
      "tensorboard               2.10.0                   pypi_0    pypi\n",
      "tensorboard-data-server   0.6.1                    pypi_0    pypi\n",
      "tensorboard-plugin-wit    1.8.1                    pypi_0    pypi\n",
      "terminado                 0.15.0                   pypi_0    pypi\n",
      "tinycss2                  1.1.1                    pypi_0    pypi\n",
      "tk                        8.6.12               h2bbff1b_0  \n",
      "torchaudio                0.11.0               py37_cu113    pytorch\n",
      "torchvision               0.12.0               py37_cu113    pytorch\n",
      "tornado                   6.2                      pypi_0    pypi\n",
      "traitlets                 5.3.0                    pypi_0    pypi\n",
      "typing_extensions         4.3.0            py37haa95532_0  \n",
      "urllib3                   1.26.11          py37haa95532_0  \n",
      "vc                        14.2                 h21ff451_1  \n",
      "vs2015_runtime            14.27.29016          h5e58377_2  \n",
      "wcwidth                   0.2.5                    pypi_0    pypi\n",
      "webencodings              0.5.1                    pypi_0    pypi\n",
      "websocket-client          1.4.0                    pypi_0    pypi\n",
      "werkzeug                  2.2.2                    pypi_0    pypi\n",
      "wheel                     0.37.1             pyhd3eb1b0_0  \n",
      "win_inet_pton             1.1.0            py37haa95532_0  \n",
      "wincertstore              0.2              py37haa95532_2  \n",
      "xz                        5.2.5                h8cc25b3_1  \n",
      "zipp                      3.8.1                    pypi_0    pypi\n",
      "zlib                      1.2.12               h8cc25b3_2  \n",
      "zstd                      1.5.2                h19a0ad4_0  \n"
     ]
    }
   ],
   "source": [
    "!conda list"
   ]
  },
  {
   "cell_type": "markdown",
   "metadata": {
    "id": "P-r_cB2rqp5x"
   },
   "source": [
    "### Start Environment from the registry or build"
   ]
  },
  {
   "cell_type": "code",
   "execution_count": 3,
   "metadata": {
    "id": "YSf-WhxbqtLw"
   },
   "outputs": [],
   "source": [
    "try:\n",
    "    env.close()\n",
    "except:\n",
    "    pass\n",
    "\n",
    "#env_id = \"GridWorld\" #['Basic', '3DBall', '3DBallHard', 'GridWorld', 'Hallway', 'VisualHallway', 'CrawlerDynamicTarget', 'CrawlerStaticTarget', 'Bouncer', 'SoccerTwos', 'PushBlock', 'VisualPushBlock', 'WallJump', 'Tennis', 'Reacher', 'Pyramids', 'VisualPyramids', 'Walker', 'FoodCollector', 'VisualFoodCollector', 'StrikersVsGoalie', 'WormStaticTarget', 'WormDynamicTarget']\n",
    "\n",
    "#from mlagents_envs.registry import default_registry\n",
    "from mlagents_envs.environment import UnityEnvironment\n",
    "import matplotlib.pyplot as plt\n",
    "from IPython.display import clear_output\n",
    "import time\n",
    "\n",
    "%matplotlib inline\n",
    "\n",
    "env = UnityEnvironment(file_name=\"../Builds/RoboDriver/RoboDriverUnityProject\") # careful, reverse slashes\n",
    "#env = default_registry[env_id].make()"
   ]
  },
  {
   "cell_type": "markdown",
   "metadata": {
    "id": "h1lIx3_l24OP"
   },
   "source": [
    "### Reset the environment\n",
    "To reset the environment, simply call `env.reset()`. This method takes no argument and returns nothing but will send a signal to the simulation to reset."
   ]
  },
  {
   "cell_type": "code",
   "execution_count": 4,
   "metadata": {
    "id": "dhtl0mpeqxYi"
   },
   "outputs": [],
   "source": [
    "env.reset()"
   ]
  },
  {
   "cell_type": "markdown",
   "metadata": {
    "id": "k1rwnVq2qyoO"
   },
   "source": [
    "### Behavior Specs\n"
   ]
  },
  {
   "cell_type": "markdown",
   "metadata": {
    "id": "TrD0rSv92T8A"
   },
   "source": [
    "#### Get the Behavior Specs from the Environment"
   ]
  },
  {
   "cell_type": "code",
   "execution_count": 5,
   "metadata": {
    "id": "a7KatdThq7OV"
   },
   "outputs": [
    {
     "name": "stdout",
     "output_type": "stream",
     "text": [
      "Name of the behavior : VisualFoodCollector?team=0\n"
     ]
    }
   ],
   "source": [
    "# We will only consider the first Behavior\n",
    "behavior_name = list(env.behavior_specs)[0]\n",
    "print(f\"Name of the behavior : {behavior_name}\")\n",
    "spec = env.behavior_specs[behavior_name]"
   ]
  },
  {
   "cell_type": "markdown",
   "metadata": {
    "id": "m1L8DHADrAbe"
   },
   "source": [
    "#### Get the Observation Space from the Behavior Specs"
   ]
  },
  {
   "cell_type": "code",
   "execution_count": 6,
   "metadata": {
    "id": "PqDTV5mSrJF5"
   },
   "outputs": [
    {
     "name": "stdout",
     "output_type": "stream",
     "text": [
      "Number of observations :  2\n",
      "Is there a visual observation ? True\n"
     ]
    }
   ],
   "source": [
    "# Examine the number of observations per Agent\n",
    "print(\"Number of observations : \", len(spec.observation_specs))\n",
    "\n",
    "# Is there a visual observation ?\n",
    "# Visual observation have 3 dimensions: Height, Width and number of channels\n",
    "vis_obs = any(len(spec.shape) == 3 for spec in spec.observation_specs)\n",
    "print(\"Is there a visual observation ?\", vis_obs)"
   ]
  },
  {
   "cell_type": "markdown",
   "metadata": {
    "id": "yVLN_wbG1G5-"
   },
   "source": [
    "#### Get the Action Space from the Behavior Specs"
   ]
  },
  {
   "cell_type": "code",
   "execution_count": 7,
   "metadata": {
    "id": "M9zk1-az1L-G"
   },
   "outputs": [
    {
     "name": "stdout",
     "output_type": "stream",
     "text": [
      "There are 3 continuous actions\n",
      "Action number 0 has 2 different options\n"
     ]
    }
   ],
   "source": [
    "# Is the Action continuous or multi-discrete ?\n",
    "if spec.action_spec.continuous_size > 0:\n",
    "    print(f\"There are {spec.action_spec.continuous_size} continuous actions\")\n",
    "if spec.action_spec.is_discrete():\n",
    "    print(f\"There are {spec.action_spec.discrete_size} discrete actions\")\n",
    "\n",
    "\n",
    "# How many actions are possible ?\n",
    "#print(f\"There are {spec.action_size} action(s)\")\n",
    "\n",
    "# For discrete actions only : How many different options does each action has ?\n",
    "if spec.action_spec.discrete_size > 0:\n",
    "    for action, branch_size in enumerate(spec.action_spec.discrete_branches):\n",
    "        print(f\"Action number {action} has {branch_size} different options\")\n",
    "\n"
   ]
  },
  {
   "cell_type": "markdown",
   "metadata": {
    "id": "3cX07SGw22Lm",
    "tags": []
   },
   "source": [
    "### Stepping the environment"
   ]
  },
  {
   "cell_type": "markdown",
   "metadata": {
    "id": "xO5p0s0prfsQ"
   },
   "source": [
    "#### Get the steps from the Environment\n",
    "You can do this with the `env.get_steps(behavior_name)` method. If there are multiple behaviors in the Environment, you can call this method with each of the behavior's names.\n",
    "_Note_ This will not move the simulation forward."
   ]
  },
  {
   "cell_type": "code",
   "execution_count": 8,
   "metadata": {
    "id": "ePZtcHXUrjyf"
   },
   "outputs": [],
   "source": [
    "decision_steps, terminal_steps = env.get_steps(behavior_name)"
   ]
  },
  {
   "cell_type": "markdown",
   "metadata": {
    "id": "f-Oj3ix530mx"
   },
   "source": [
    "#### Set actions for each behavior\n",
    "You can set the actions for the Agents of a Behavior by calling `env.set_actions()` you will need to specify the behavior name and pass a tensor of dimension 2. The first dimension of the action must be equal to the number of Agents that requested a decision during the step."
   ]
  },
  {
   "cell_type": "code",
   "execution_count": 9,
   "metadata": {
    "id": "KB-nxfbw337g"
   },
   "outputs": [],
   "source": [
    "env.set_actions(behavior_name, spec.action_spec.empty_action(len(decision_steps)))"
   ]
  },
  {
   "cell_type": "markdown",
   "metadata": {
    "id": "MQCybRs84cmq"
   },
   "source": [
    "#### Move the simulation forward\n",
    "Call `env.step()` to move the simulation forward. The simulation will progress until an Agent requestes a decision or terminates."
   ]
  },
  {
   "cell_type": "code",
   "execution_count": 10,
   "metadata": {
    "id": "nl3K40ZR4bh2"
   },
   "outputs": [],
   "source": [
    "env.step()"
   ]
  },
  {
   "cell_type": "markdown",
   "metadata": {
    "id": "i9gdextn2vJy"
   },
   "source": [
    "### Observations"
   ]
  },
  {
   "cell_type": "markdown",
   "metadata": {
    "id": "iAMqnnddr8Xo"
   },
   "source": [
    "#### Show the observations for one of the Agents\n",
    "`DecisionSteps.obs` is a tuple containing all of the observations for all of the Agents with the provided Behavior name.\n",
    "Each value in the tuple is an observation tensor containing the observation data for all of the agents."
   ]
  },
  {
   "cell_type": "code",
   "execution_count": 11,
   "metadata": {
    "id": "OJpta61TsBiO"
   },
   "outputs": [
    {
     "name": "stdout",
     "output_type": "stream",
     "text": [
      "Here is the first visual observation\n"
     ]
    },
    {
     "data": {
      "image/png": "[encoded data removed]",
      "text/plain": [
       "<Figure size 640x480 with 1 Axes>"
      ]
     },
     "metadata": {},
     "output_type": "display_data"
    },
    {
     "name": "stdout",
     "output_type": "stream",
     "text": [
      "First vector observations :  [0.]\n"
     ]
    }
   ],
   "source": [
    "for index, obs_spec in enumerate(spec.observation_specs):\n",
    "    if len(obs_spec.shape) == 3:\n",
    "        print(\"Here is the first visual observation\")\n",
    "        plt.imshow(decision_steps.obs[index][0,:,:,:])\n",
    "        plt.show()\n",
    "\n",
    "for index, obs_spec in enumerate(spec.observation_specs):\n",
    "    if len(obs_spec.shape) == 1:\n",
    "        print(\"First vector observations : \", decision_steps.obs[index][0,:])"
   ]
  },
  {
   "cell_type": "markdown",
   "metadata": {
    "id": "y60u21sys8kA"
   },
   "source": [
    "### Run the Environment for a few episodes"
   ]
  },
  {
   "cell_type": "code",
   "execution_count": 12,
   "metadata": {
    "id": "a2uQUsoMtIUK"
   },
   "outputs": [
    {
     "name": "stdout",
     "output_type": "stream",
     "text": [
      "Here is the first visual observation\n"
     ]
    },
    {
     "data": {
      "image/png": "[encoded data removed]",
      "text/plain": [
       "<Figure size 640x480 with 1 Axes>"
      ]
     },
     "metadata": {},
     "output_type": "display_data"
    },
    {
     "name": "stdout",
     "output_type": "stream",
     "text": [
      "First vector observations :  [0.]\n",
      "Actions: [[-0.20399448  0.5398292  -0.52510685]], [[0]]\n",
      "Total rewards for episode 0 is 0.0\n",
      "---------------------------------------------------------\n"
     ]
    },
    {
     "ename": "KeyboardInterrupt",
     "evalue": "",
     "output_type": "error",
     "traceback": [
      "\u001b[1;31m---------------------------------------------------------------------------\u001b[0m",
      "\u001b[1;31mKeyboardInterrupt\u001b[0m                         Traceback (most recent call last)",
      "\u001b[1;32m~\\AppData\\Local\\Temp\\ipykernel_11096\\1163384222.py\u001b[0m in \u001b[0;36m<module>\u001b[1;34m\u001b[0m\n\u001b[0;32m     44\u001b[0m         \u001b[0mprint\u001b[0m\u001b[1;33m(\u001b[0m\u001b[1;34m\"---------------------------------------------------------\"\u001b[0m\u001b[1;33m)\u001b[0m\u001b[1;33m\u001b[0m\u001b[1;33m\u001b[0m\u001b[0m\n\u001b[0;32m     45\u001b[0m \u001b[1;33m\u001b[0m\u001b[0m\n\u001b[1;32m---> 46\u001b[1;33m         \u001b[0mtime\u001b[0m\u001b[1;33m.\u001b[0m\u001b[0msleep\u001b[0m\u001b[1;33m(\u001b[0m\u001b[1;36m1\u001b[0m\u001b[1;33m)\u001b[0m\u001b[1;33m\u001b[0m\u001b[1;33m\u001b[0m\u001b[0m\n\u001b[0m\u001b[0;32m     47\u001b[0m         \u001b[0mclear_output\u001b[0m\u001b[1;33m(\u001b[0m\u001b[1;33m)\u001b[0m\u001b[1;33m\u001b[0m\u001b[1;33m\u001b[0m\u001b[0m\n",
      "\u001b[1;31mKeyboardInterrupt\u001b[0m: "
     ]
    }
   ],
   "source": [
    "for episode in range(1):\n",
    "    env.reset()\n",
    "    decision_steps, terminal_steps = env.get_steps(behavior_name)\n",
    "    tracked_agent = -1 # -1 indicates not yet tracking\n",
    "    done = False # For the tracked_agent\n",
    "    episode_rewards = 0 # For the tracked_agent\n",
    "    while not done:\n",
    "        # Track the first agent we see if not tracking\n",
    "        # Note : len(decision_steps) = [number of agents that requested a decision]\n",
    "        if tracked_agent == -1 and len(decision_steps) >= 1:\n",
    "            tracked_agent = decision_steps.agent_id[0]\n",
    "    \n",
    "        for index, obs_spec in enumerate(spec.observation_specs):\n",
    "            if len(obs_spec.shape) == 3:\n",
    "                print(\"Here is the first visual observation\")\n",
    "                plt.imshow(decision_steps.obs[index][0,:,:,:])\n",
    "                plt.show()\n",
    "\n",
    "        for index, obs_spec in enumerate(spec.observation_specs):\n",
    "            if len(obs_spec.shape) == 1:\n",
    "                print(\"First vector observations : \", decision_steps.obs[index][0,:])\n",
    "                \n",
    "        # Generate an action for all agents\n",
    "        action = spec.action_spec.random_action(len(decision_steps))\n",
    "        #action = spec.action_spec.empty_action.\n",
    "        \n",
    "        print(f\"Actions: {action.continuous}, {action.discrete}\")\n",
    "        \n",
    "        # Set the actions\n",
    "        env.set_actions(behavior_name, action)\n",
    "\n",
    "        # Move the simulation forward\n",
    "        env.step()\n",
    "\n",
    "        # Get the new simulation results\n",
    "        decision_steps, terminal_steps = env.get_steps(behavior_name)\n",
    "        if tracked_agent in decision_steps: # The agent requested a decision\n",
    "            episode_rewards += decision_steps[tracked_agent].reward\n",
    "        if tracked_agent in terminal_steps: # The agent terminated its episode\n",
    "            episode_rewards += terminal_steps[tracked_agent].reward\n",
    "            done = True\n",
    "            \n",
    "        print(f\"Total rewards for episode {episode} is {episode_rewards}\")\n",
    "        print(\"---------------------------------------------------------\")\n",
    "        \n",
    "        time.sleep(1)\n",
    "        clear_output()\n"
   ]
  },
  {
   "cell_type": "markdown",
   "metadata": {
    "id": "R-3grXNEtJPa"
   },
   "source": [
    "### Close the Environment to free the port it is using"
   ]
  },
  {
   "cell_type": "code",
   "execution_count": null,
   "metadata": {
    "id": "vdWG6_SqtNtv"
   },
   "outputs": [],
   "source": [
    "env.close()\n",
    "print(\"Closed environment\")"
   ]
  },
  {
   "cell_type": "code",
   "execution_count": null,
   "metadata": {},
   "outputs": [],
   "source": []
  }
 ],
 "metadata": {
  "colab": {
   "collapsed_sections": [],
   "name": "Colab-UnityEnvironment-1-Run.ipynb",
   "private_outputs": true,
   "provenance": [],
   "toc_visible": true
  },
  "kernelspec": {
   "display_name": "Python 3 (ipykernel)",
   "language": "python",
   "name": "python3"
  },
  "language_info": {
   "codemirror_mode": {
    "name": "ipython",
    "version": 3
   },
   "file_extension": ".py",
   "mimetype": "text/x-python",
   "name": "python",
   "nbconvert_exporter": "python",
   "pygments_lexer": "ipython3",
   "version": "3.7.13"
  },
  "pycharm": {
   "stem_cell": {
    "cell_type": "raw",
    "metadata": {
     "collapsed": false
    },
    "source": []
   }
  }
 },
 "nbformat": 4,
 "nbformat_minor": 4
}
